{
 "cells": [
  {
   "cell_type": "markdown",
   "id": "7c7101c5-9332-4f3a-8162-ef98d40f8cda",
   "metadata": {},
   "source": [
    "# Data Science Tools and Ecosystem:\n",
    "\n",
    "In this notebook, Data Science Tools and Ecosystem are summarized."
   ]
  },
  {
   "cell_type": "markdown",
   "id": "b598a7e3-d3b2-4e85-bedf-2aa6d2a4c916",
   "metadata": {},
   "source": [
    "Some of the popular languages that Data Scientists use are:\r\n",
    "1. Python\r\n",
    "2. R\r\n",
    "3. SQL\r\n",
    "\n"
   ]
  },
  {
   "cell_type": "markdown",
   "id": "266dcdae-47d4-4ef7-95e1-c7ce719e4a1a",
   "metadata": {},
   "source": [
    "Some of the commonly used libraries used by Data Scientists include:\r\n",
    "1. NumPy\r\n",
    "2. Pandas\r\n",
    "3. Scikit-learn\r\n"
   ]
  },
  {
   "cell_type": "markdown",
   "id": "3d88f0e5-dd1c-4d67-8daf-c41ec9dc5c0d",
   "metadata": {},
   "source": [
    "| Data Science Tools |\r\n",
    "|--------------------|\r\n",
    "| Jupyter Notebook   |\r\n",
    "| RStudio            |\r\n",
    "| Apache Zeppelin    |\r\n"
   ]
  },
  {
   "cell_type": "markdown",
   "id": "48146e92-e48d-4475-b108-8bb6dad8d28e",
   "metadata": {},
   "source": [
    "### Below are a few examples of evaluating arithmetic expressions in Python.\r\n"
   ]
  },
  {
   "cell_type": "markdown",
   "id": "3509a972-bc0e-47b4-a96e-409e77508178",
   "metadata": {},
   "source": [
    "# This a simple arithmetic expression to multiply then add integers\n",
    "\n"
   ]
  },
  {
   "cell_type": "code",
   "execution_count": 5,
   "id": "1f78d39b-1f2d-42b7-aadf-c2353a9c09b3",
   "metadata": {},
   "outputs": [
    {
     "data": {
      "text/plain": [
       "17"
      ]
     },
     "execution_count": 5,
     "metadata": {},
     "output_type": "execute_result"
    }
   ],
   "source": [
    "(3*4)+5\n"
   ]
  },
  {
   "cell_type": "markdown",
   "id": "c961892f-2fca-4424-bea0-1a5c10f8c639",
   "metadata": {},
   "source": [
    "# This will convert 200 minutes to hours by dividing by 60"
   ]
  },
  {
   "cell_type": "code",
   "execution_count": 6,
   "id": "191a7087-9a4f-4ed3-8ae1-62acbe32ec8c",
   "metadata": {},
   "outputs": [
    {
     "name": "stdout",
     "output_type": "stream",
     "text": [
      "200 minutes is equal to 3 hours and 20 minutes.\n"
     ]
    }
   ],
   "source": [
    "\n",
    "minutes = 200\n",
    "hours = minutes // 60  \n",
    "remaining_minutes = minutes % 60  \n",
    "\n",
    "print(f\"{minutes} minutes is equal to {hours} hours and {remaining_minutes} minutes.\")\n"
   ]
  },
  {
   "attachments": {},
   "cell_type": "markdown",
   "id": "4015d171-bef1-4569-ac46-09a00c8b4b21",
   "metadata": {},
   "source": [
    "**Objectives:**\r\n",
    "- List popular languages for Data Science.\r\n",
    "- Overview commonly used Data Science libraries.\r\n",
    "- Introduce Data Science tools.\r\n"
   ]
  },
  {
   "cell_type": "markdown",
   "id": "8889e757-748a-45dd-9061-3147d6ceb0e7",
   "metadata": {},
   "source": [
    "## Author\n",
    "ADI\n"
   ]
  },
  {
   "cell_type": "code",
   "execution_count": null,
   "id": "d0abdf8c-b140-4762-bd92-1f71295dff99",
   "metadata": {},
   "outputs": [],
   "source": []
  },
  {
   "cell_type": "code",
   "execution_count": null,
   "id": "e3e8ef4c-3613-4bdb-b379-02802bd422c1",
   "metadata": {},
   "outputs": [],
   "source": []
  }
 ],
 "metadata": {
  "kernelspec": {
   "display_name": "Python 3 (ipykernel)",
   "language": "python",
   "name": "python3"
  },
  "language_info": {
   "codemirror_mode": {
    "name": "ipython",
    "version": 3
   },
   "file_extension": ".py",
   "mimetype": "text/x-python",
   "name": "python",
   "nbconvert_exporter": "python",
   "pygments_lexer": "ipython3",
   "version": "3.9.18"
  }
 },
 "nbformat": 4,
 "nbformat_minor": 5
}
